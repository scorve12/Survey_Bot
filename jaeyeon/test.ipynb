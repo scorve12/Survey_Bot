{
 "cells": [
  {
   "cell_type": "code",
   "execution_count": 27,
   "metadata": {},
   "outputs": [
    {
     "data": {
      "text/plain": [
       "'\\n다음 아래 코드는 임시 설문지 결과 가정한 것\\n'"
      ]
     },
     "execution_count": 27,
     "metadata": {},
     "output_type": "execute_result"
    }
   ],
   "source": [
    "#example\n",
    "import pandas as pd\n",
    "\n",
    "survey=pd.DataFrame(data=([\n",
    "'나는 다른 사람들이 힘들어하는 것을 볼 때 그들을 구제해 줘야 할 것 같다. 그래서 그들의 문제를 대신 해결해 주려고 애쓴다.'\n",
    ",'나는 다른 사람들이 실수를 하는 것을 볼 때 그들을 지도해 줘야 할 것 같다. 그래서 그들이 어떻게 해야 하는지 말하게 된다.'\n",
    ",'나는 다른사람들을 기쁘게 해줘야 할 것 같다. 그래서 다른사람들이 내가 하기 싫은 일을 시키더라도 가만히 있는다.'\n",
    ",'나는 다른사람들이 나를 진정으로 이해해 주기를 바란다. 그래서 사람들이 내 기분을 잘 몰라주면 상처 받는다.'\n",
    ",'나는 다른사람을 내옆에 둬야 할 것 같다. 그래서 그들이 나를 떠나려 할 때도 내옆에 두기 위해 할 수 있는 어떤 일이라도 하려 한다.'\n",
    ",'나는 다른 사람을 변화시켜야 할 것 같다 그래서 그들이 나와 다른 시념과 가치관을 가지고 있더라도 나와 비슷한 생각을 하도록 부추긴다.'\n",
    ",'나는 다른 사람을 이해시켜야 할 것 같다. 그래서 그다른 사람들이 나와 관점이 다를 땐 화가 나거나 마을 닫게 된다.'\n",
    ",'나는 다른 사람들과 가까워져야 할 것 같다. 그래서 그들이 어느 정도 거리를 두도록 내버려두기 힘들다.'\n",
    ",'나는 다른 사람들의 인정에 괸장히 매달리는 편이다. 그래서 그들이 나를 거부할 때는 상처를 받는다.'\n",
    ",'나는 다른 사람들의 신뢰를 받고 싶다. 그래서 그들이 나를 신뢰하지 않을 때는 거절당했다고 느낀다.'\n",
    ",'나는 누군가를 신뢰하고 싶다. 그래서 그들이 나를 신뢰하지 않을 때는 거절당했다고 느낀다.'\n",
    ",'나는 누군가 나를 수용해 주기를 원한다. 그래서 그 사람이 나를 좋아하지 않을 때는 내 자신이 하찮게 느껴진다.'\n",
    ",'나는 누군가가 나를 보살펴 주기를 원한다. 그래서 그 사람이 나에게 도움이 되지 못한다면 버림받은 것 같다.'\n",
    ",'나는 누군가가가 신뢰할 만한 사람이길 바란다. 그래서 그 사람이 나의 기대를 저버릴 경우 실망한다.'\n",
    ",'나는 다름 사람들이 승인해 주기를 원한다. 그래서 그들이 내가 하려는 일에 반대를 하면 기분이 나쁘다.'\n",
    ",'나는 팩임감에서 벗어나고 싶다. 그래서 내가 관심있는 사람들이라도 나에게 너무 의존하려고 하면 거리를 둔다.'\n",
    ",'나는 다름 사람들의 존경을 받고 싶다. 그래서 사람들이 나를 인정해 주지 않으면 상처를 받는다.'\n",
    ",'나는 다름사람들을 수용하길 원한다. 하지만 그들이 나의 기대에 미치지 못할 땐 거리를 두게 한다.'\n",
    ",'나는 갈들을 피해야 할 것 같다. 그래서 누군가가 나를 함부로 대할 때에도 가만히 있는다.']\n",
    "),columns=['질문사항']\n",
    ")\n",
    "\n",
    "\"\"\"\n",
    "다음 아래 코드는 실험을 위한 임시 설문지 결과 가정한 것\n",
    "\"\"\"\n",
    "import numpy as np\n",
    "answer=pd.DataFrame(data=(np.random.randint(0, 2, size=len(survey))),columns=['답변'])\n",
    "\n",
    "survey_answer=pd.concat([survey,answer],axis=1)\n",
    "survey_answer\n",
    "\n",
    "# survey_answer.to_csv('CSV\\\\sample_survey_answer.csv', index=False) -->csv에 넣어둠\n",
    "#시나리오\n",
    "#1. 음성 설문지를 봇이 읽어줌 \n",
    "#2. 음성이 나온 후 내담자가 대답을 함 '예' 혹은 '아니오' 이때 간격을 두고 값이 들어오면  다음으로 반복 수행"
   ]
  },
  {
   "cell_type": "code",
   "execution_count": 20,
   "metadata": {},
   "outputs": [
    {
     "name": "stderr",
     "output_type": "stream",
     "text": [
      "d:\\venv\\whisper\\Lib\\site-packages\\tqdm\\auto.py:21: TqdmWarning: IProgress not found. Please update jupyter and ipywidgets. See https://ipywidgets.readthedocs.io/en/stable/user_install.html\n",
      "  from .autonotebook import tqdm as notebook_tqdm\n",
      "d:\\venv\\whisper\\Lib\\site-packages\\huggingface_hub\\file_download.py:1132: FutureWarning: `resume_download` is deprecated and will be removed in version 1.0.0. Downloads always resume when possible. If you want to force a new download, use `force_download=True`.\n",
      "  warnings.warn(\n"
     ]
    }
   ],
   "source": [
    "# 우리가 사용할 대답을 택스트로 받으면 이를 긍정인지 부정인지 판별해줄 모델 -> 그벼움 그리고 결과 리턴도 상당히 빠름\n",
    "from transformers import pipeline\n",
    "classifier = pipeline(\"text-classification\", model=\"matthewburke/korean_sentiment\")"
   ]
  },
  {
   "cell_type": "code",
   "execution_count": 25,
   "metadata": {},
   "outputs": [
    {
     "name": "stderr",
     "output_type": "stream",
     "text": [
      "d:\\venv\\whisper\\Lib\\site-packages\\transformers\\pipelines\\text_classification.py:104: UserWarning: `return_all_scores` is now deprecated,  if want a similar functionality use `top_k=None` instead of `return_all_scores=True` or `top_k=1` instead of `return_all_scores=False`.\n",
      "  warnings.warn(\n"
     ]
    },
    {
     "data": {
      "text/plain": [
       "[1, 1, 0, 1, 1, 0, 0, 0, 0]"
      ]
     },
     "execution_count": 25,
     "metadata": {},
     "output_type": "execute_result"
    }
   ],
   "source": [
    "# custom_tweet = ['옳습니다','그런거 같습니다.','아니오','예, 맞습니다.','넵','전혀 아닌거 같습니다','아 ㄴ ㅣㅣ오','잔햐 아니예','아닌거 같수예']\n",
    "\n",
    "# preds_list=[]\n",
    "# for response in custom_tweet:\n",
    "#     preds =classifier(response, return_all_scores=True)\n",
    "#     is_positive = preds[0][1]['score'] > 0.5\n",
    "#     preds_list.append(is_positive)\n",
    "    \n",
    "# [1 if x else 0 for x in preds_list]\n",
    "#1은 '예',0은 '아니오'"
   ]
  },
  {
   "cell_type": "code",
   "execution_count": 1,
   "metadata": {},
   "outputs": [
    {
     "name": "stdout",
     "output_type": "stream",
     "text": [
      "pygame 2.5.2 (SDL 2.28.3, Python 3.11.5)\n",
      "Hello from the pygame community. https://www.pygame.org/contribute.html\n"
     ]
    },
    {
     "name": "stderr",
     "output_type": "stream",
     "text": [
      "d:\\venv\\whisper\\Lib\\site-packages\\tqdm\\auto.py:21: TqdmWarning: IProgress not found. Please update jupyter and ipywidgets. See https://ipywidgets.readthedocs.io/en/stable/user_install.html\n",
      "  from .autonotebook import tqdm as notebook_tqdm\n",
      "d:\\venv\\whisper\\Lib\\site-packages\\huggingface_hub\\file_download.py:1132: FutureWarning: `resume_download` is deprecated and will be removed in version 1.0.0. Downloads always resume when possible. If you want to force a new download, use `force_download=True`.\n",
      "  warnings.warn(\n"
     ]
    },
    {
     "name": "stdout",
     "output_type": "stream",
     "text": [
      "녹음을 시작합니다. 말씀해주세요...\n",
      "녹음이 완료되었습니다.\n",
      "인식된 텍스트:  네 맞습니다\n",
      "녹음을 시작합니다. 말씀해주세요...\n",
      "녹음이 완료되었습니다.\n",
      "인식된 텍스트:  네 맞습니다\n",
      " 네 맞습니다\n"
     ]
    },
    {
     "name": "stderr",
     "output_type": "stream",
     "text": [
      "d:\\venv\\whisper\\Lib\\site-packages\\transformers\\pipelines\\text_classification.py:104: UserWarning: `return_all_scores` is now deprecated,  if want a similar functionality use `top_k=None` instead of `return_all_scores=True` or `top_k=1` instead of `return_all_scores=False`.\n",
      "  warnings.warn(\n"
     ]
    },
    {
     "name": "stdout",
     "output_type": "stream",
     "text": [
      " 네 맞습니다\n"
     ]
    }
   ],
   "source": [
    "import pygame\n",
    "import glob\n",
    "import time\n",
    "import sounddevice as sd\n",
    "import numpy as np\n",
    "from scipy.io.wavfile import write\n",
    "import whisper\n",
    "import tempfile\n",
    "import warnings\n",
    "import os\n",
    "from transformers import pipeline\n",
    "\n",
    "classifier = pipeline(\"text-classification\", model=\"matthewburke/korean_sentiment\")\n",
    "\n",
    "# pygame 라이브러리 초기화\n",
    "pygame.init()\n",
    "pygame.mixer.init()\n",
    "\n",
    "# 음성 파일이 저장된 폴더 경로와 패턴\n",
    "audio_files_pattern = r'.\\audio\\*.mp3'\n",
    "\n",
    "# glob을 사용하여 폴더 내의 모든 mp3 파일 목록을 가져옵니다.\n",
    "audio_files = glob.glob(audio_files_pattern)\n",
    "\n",
    "sample_rate = 44100  # 녹음 샘플링 비율\n",
    "duration = 5  # 녹음할 시간(초)\n",
    "respronse_text=[]\n",
    "\n",
    "# 모든 음성 파일을 순차적으로 재생\n",
    "for audio_file in audio_files[:2]:\n",
    "    #print(f\"Playing {audio_file}...\")\n",
    "    pygame.mixer.music.load(audio_file)\n",
    "    pygame.mixer.music.play()\n",
    "    # 재생이 완료될 때까지 대기\n",
    "    \n",
    "    while pygame.mixer.music.get_busy():\n",
    "        pygame.time.Clock().tick(10)\n",
    "    #print(f\"Finished playing {audio_file}.\")\n",
    "    \n",
    "    print(\"녹음을 시작합니다. 말씀해주세요...\")\n",
    "    recording = sd.rec(int(duration * sample_rate), samplerate=sample_rate, channels=2)\n",
    "    sd.wait()  # 녹음이 끝날 때까지 대기\n",
    "    print(\"녹음이 완료되었습니다.\")\n",
    "\n",
    "    # 임시 파일로 녹음된 오디오 저장\n",
    "    temp_dir = tempfile.mkdtemp()\n",
    "    audio_file = os.path.join(temp_dir, \"recording.wav\")\n",
    "    write(audio_file, sample_rate, recording)  # 녹음된 오디오를 WAV 파일로 저장\n",
    "\n",
    "    # Whisper 모델 로드 및 오디오 파일 변환\n",
    "    model = whisper.load_model(\"medium\")\n",
    "\n",
    "    #cpu사용자경우 경고 메세지 삭제\n",
    "    warnings.filterwarnings(\"ignore\", message=\"FP16 is not supported on CPU\")\n",
    "\n",
    "    result = model.transcribe(audio_file, fp16=False)\n",
    "\n",
    "\n",
    "    # 결과 출력 및 임시 파일 정리\n",
    "    respronse_text.append(result[\"text\"])\n",
    "    print(\"인식된 텍스트:\", result[\"text\"])\n",
    "    os.remove(audio_file)  # 임시 오디오 파일 삭제\n",
    "    os.rmdir(temp_dir)  # 임시 디렉토리 삭제\n",
    "\n",
    "pred_respronse=[]\n",
    "for r in respronse_text:\n",
    "    print(r)\n",
    "    preds =classifier(r, return_all_scores=True)\n",
    "    is_positive = preds[0][1]['score'] > 0.5\n",
    "    pred_respronse.append(is_positive)\n",
    "    \n",
    "respronse=[1 if x else 0 for x in pred_respronse]\n",
    "\n",
    "respronse\n",
    "\n",
    "# pygame 종료\n",
    "pygame.quit()\n",
    "\n",
    "# 시스템이 작동하면 여기에 말하면 그걸 인식하고 그걸 다시 택스트로 저장 그리고 그것이 긍정인지 부정인지 말하느거\n",
    "# STT,TTS"
   ]
  },
  {
   "cell_type": "code",
   "execution_count": 3,
   "metadata": {},
   "outputs": [
    {
     "data": {
      "text/plain": [
       "['나는 다른 사람들이 힘들어하는 것을 볼 때 그들을 구제해 줘야 할 것 같다. 그래서 그들의 문제를 대신 해결해 주려고 애쓴다.',\n",
       " '나는 다른사람들을 기쁘게 해줘야 할 것 같다. 그래서 다른사람들이 내가 하기 싫은 일을 시키더라도 가만히 있는다.',\n",
       " '나는 다른사람들이 나를 진정으로 이해해 주기를 바란다. 그래서 사람들이 내 기분을 잘 몰라주면 상처 받는다.',\n",
       " '나는 다른사람을 내옆에 둬야 할 것 같다. 그래서 그들이 나를 떠나려 할 때도 내옆에 두기 위해 할 수 있는 어떤 일이라도 하려 한다.',\n",
       " '나는 다른 사람을 변화시켜야 할 것 같다 그래서 그들이 나와 다른 시념과 가치관을 가지고 있더라도 나와 비슷한 생각을 하도록 부추긴다.',\n",
       " '나는 다른 사람들과 가까워져야 할 것 같다. 그래서 그들이 어느 정도 거리를 두도록 내버려두기 힘들다.',\n",
       " '나는 다른 사람들의 인정에 괸장히 매달리는 편이다. 그래서 그들이 나를 거부할 때는 상처를 받는다.',\n",
       " '나는 누군가 나를 수용해 주기를 원한다. 그래서 그 사람이 나를 좋아하지 않을 때는 내 자신이 하찮게 느껴진다.',\n",
       " '나는 누군가가가 신뢰할 만한 사람이길 바란다. 그래서 그 사람이 나의 기대를 저버릴 경우 실망한다.',\n",
       " '나는 팩임감에서 벗어나고 싶다. 그래서 내가 관심있는 사람들이라도 나에게 너무 의존하려고 하면 거리를 둔다.',\n",
       " '나는 다름 사람들의 존경을 받고 싶다. 그래서 사람들이 나를 인정해 주지 않으면 상처를 받는다.',\n",
       " '나는 다름사람들을 수용하길 원한다. 하지만 그들이 나의 기대에 미치지 못할 땐 거리를 두게 한다.',\n",
       " '나는 갈들을 피해야 할 것 같다. 그래서 누군가가 나를 함부로 대할 때에도 가만히 있는다.']"
      ]
     },
     "execution_count": 3,
     "metadata": {},
     "output_type": "execute_result"
    }
   ],
   "source": [
    "import pandas as pd\n",
    "\n",
    "respronse=[1,0,1,1,1,1,0,1,1,0,0,1,0,1,0,1,1,1,1] #임시 답변 만든거임\n",
    "data=pd.read_csv('.\\CSV\\sample_survey_answer.csv')\n",
    "data['답변']=respronse\n",
    "masking=(data['답변']==1)\n",
    "yes_data=data[masking]['질문사항'].to_list()\n",
    "yes_data\n",
    "\n",
    "# 여기까지가 음성으로 설문지에 대한 응답 \n",
    "# 아래코드부터는 파인 튜닝 챗봇시작"
   ]
  },
  {
   "cell_type": "code",
   "execution_count": 34,
   "metadata": {},
   "outputs": [
    {
     "data": {
      "text/plain": [
       "{'question': '설문조사 결과:나는 다른 사람들이 힘들어하는 것을 볼 때 그들을 구제해 줘야 할 것 같다. 그래서 그들의 문제를 대신 해결해 주려고 애쓴다.나는 다른사람들을 기쁘게 해줘야 할 것 같다. 그래서 다른사람들이 내가 하기 싫은 일을 시키더라도 가만히 있는다.나는 다른사람들이 나를 진정으로 이해해 주기를 바란다. 그래서 사람들이 내 기분을 잘 몰라주면 상처 받는다.나는 다른사람을 내옆에 둬야 할 것 같다. 그래서 그들이 나를 떠나려 할 때도 내옆에 두기 위해 할 수 있는 어떤 일이라도 하려 한다.나는 다른 사람을 변화시켜야 할 것 같다 그래서 그들이 나와 다른 시념과 가치관을 가지고 있더라도 나와 비슷한 생각을 하도록 부추긴다.나는 다른 사람들과 가까워져야 할 것 같다. 그래서 그들이 어느 정도 거리를 두도록 내버려두기 힘들다.나는 다른 사람들의 인정에 괸장히 매달리는 편이다. 그래서 그들이 나를 거부할 때는 상처를 받는다.나는 누군가 나를 수용해 주기를 원한다. 그래서 그 사람이 나를 좋아하지 않을 때는 내 자신이 하찮게 느껴진다.나는 누군가가가 신뢰할 만한 사람이길 바란다. 그래서 그 사람이 나의 기대를 저버릴 경우 실망한다.나는 팩임감에서 벗어나고 싶다. 그래서 내가 관심있는 사람들이라도 나에게 너무 의존하려고 하면 거리를 둔다.나는 다름 사람들의 존경을 받고 싶다. 그래서 사람들이 나를 인정해 주지 않으면 상처를 받는다.나는 다름사람들을 수용하길 원한다. 하지만 그들이 나의 기대에 미치지 못할 땐 거리를 두게 한다.나는 갈들을 피해야 할 것 같다. 그래서 누군가가 나를 함부로 대할 때에도 가만히 있는다.이 사람은 암에 저항할 의지가 있는거야?',\n",
       " 'chat_history': [HumanMessage(content='설문조사 결과:나는 다른 사람들이 힘들어하는 것을 볼 때 그들을 구제해 줘야 할 것 같다. 그래서 그들의 문제를 대신 해결해 주려고 애쓴다.나는 다른사람들을 기쁘게 해줘야 할 것 같다. 그래서 다른사람들이 내가 하기 싫은 일을 시키더라도 가만히 있는다.나는 다른사람들이 나를 진정으로 이해해 주기를 바란다. 그래서 사람들이 내 기분을 잘 몰라주면 상처 받는다.나는 다른사람을 내옆에 둬야 할 것 같다. 그래서 그들이 나를 떠나려 할 때도 내옆에 두기 위해 할 수 있는 어떤 일이라도 하려 한다.나는 다른 사람을 변화시켜야 할 것 같다 그래서 그들이 나와 다른 시념과 가치관을 가지고 있더라도 나와 비슷한 생각을 하도록 부추긴다.나는 다른 사람들과 가까워져야 할 것 같다. 그래서 그들이 어느 정도 거리를 두도록 내버려두기 힘들다.나는 다른 사람들의 인정에 괸장히 매달리는 편이다. 그래서 그들이 나를 거부할 때는 상처를 받는다.나는 누군가 나를 수용해 주기를 원한다. 그래서 그 사람이 나를 좋아하지 않을 때는 내 자신이 하찮게 느껴진다.나는 누군가가가 신뢰할 만한 사람이길 바란다. 그래서 그 사람이 나의 기대를 저버릴 경우 실망한다.나는 팩임감에서 벗어나고 싶다. 그래서 내가 관심있는 사람들이라도 나에게 너무 의존하려고 하면 거리를 둔다.나는 다름 사람들의 존경을 받고 싶다. 그래서 사람들이 나를 인정해 주지 않으면 상처를 받는다.나는 다름사람들을 수용하길 원한다. 하지만 그들이 나의 기대에 미치지 못할 땐 거리를 두게 한다.나는 갈들을 피해야 할 것 같다. 그래서 누군가가 나를 함부로 대할 때에도 가만히 있는다.이 사람은 암에 저항할 의지가 있는거야?'),\n",
       "  AIMessage(content='문장에서는 참여자 2가 암을 직면하면서 항암치료를 받고, 그 과정에서 혼자 개인 작업실에서 서각에 몰두하는 시간을 많이 가졌다고 설명하고 있습니다. 그는 서각 작업에 집중하면서 행복을 느꼈으며, 작업에 몰두하는 시간 동안 자신이 암 환자라는 현실을 잊을 수 있었다고 합니다. 이를 통해 그의 암에 대한 저항 의지를 간접적으로 확인할 수 있습니다. 그러나 문장에서는 그의 저항 의지에 대해 명확하게 언급하지 않고 있습니다.')],\n",
       " 'answer': '문장에서는 참여자 2가 암을 직면하면서 항암치료를 받고, 그 과정에서 혼자 개인 작업실에서 서각에 몰두하는 시간을 많이 가졌다고 설명하고 있습니다. 그는 서각 작업에 집중하면서 행복을 느꼈으며, 작업에 몰두하는 시간 동안 자신이 암 환자라는 현실을 잊을 수 있었다고 합니다. 이를 통해 그의 암에 대한 저항 의지를 간접적으로 확인할 수 있습니다. 그러나 문장에서는 그의 저항 의지에 대해 명확하게 언급하지 않고 있습니다.'}"
      ]
     },
     "execution_count": 34,
     "metadata": {},
     "output_type": "execute_result"
    }
   ],
   "source": [
    "import os\n",
    "from langchain.llms import OpenAI\n",
    "from langchain.chains import LLMChain\n",
    "from langchain.schema import AIMessage, HumanMessage, SystemMessage\n",
    "from langchain.chat_models import ChatOpenAI\n",
    "from langchain.prompts import PromptTemplate\n",
    "from langchain.chains import ConversationChain  \n",
    "from langchain.prompts import (\n",
    "    ChatPromptTemplate,\n",
    "    MessagesPlaceholder,\n",
    "    SystemMessagePromptTemplate,\n",
    "    HumanMessagePromptTemplate,\n",
    ")\n",
    "from langchain.memory import ConversationBufferMemory\n",
    "from langchain.document_loaders import PyPDFLoader\n",
    "from langchain.text_splitter import RecursiveCharacterTextSplitter\n",
    "from langchain.vectorstores import Chroma\n",
    "from langchain.embeddings import OpenAIEmbeddings\n",
    "from langchain.chains import ConversationalRetrievalChain\n",
    "\n",
    "loader = PyPDFLoader(\"https://www.kihasa.re.kr/hswr/assets/pdf/1037/journal-37-2-525.pdf\")\n",
    "pages = loader.load_and_split()\n",
    "text_splitter = RecursiveCharacterTextSplitter(chunk_size=500, chunk_overlap=0)\n",
    "splits = text_splitter.split_documents(pages)\n",
    "#vectorstore = Chroma.from_documents(documents=splits, embedding=OpenAIEmbeddings(openai_api_key='key'))\n",
    "\n",
    "#llm = ChatOpenAI(openai_api_key='key', model=\"gpt-4\")  \n",
    "retriever = vectorstore.as_retriever()\n",
    "\n",
    "\n",
    "prompt = ChatPromptTemplate(\n",
    "    messages=[\n",
    "        SystemMessagePromptTemplate.from_template(\n",
    "            \"너는 암 전문의 챗봇이야. 설문 조사 응답내용을 분석하고 알려줘\"\n",
    "        ),\n",
    "        # variable_name이 memory와 연결하는 key입니다.\n",
    "        MessagesPlaceholder(variable_name=\"chat_history\"),\n",
    "        HumanMessagePromptTemplate.from_template(\"{question}\"),\n",
    "    ]\n",
    ")\n",
    "\n",
    "memory = ConversationBufferMemory(memory_key=\"chat_history\", return_messages=True)\n",
    "conversation = LLMChain(llm=llm, prompt=prompt, verbose=True, memory=memory)\n",
    "\n",
    "qa = ConversationalRetrievalChain.from_llm(llm, retriever=retriever, memory=memory)\n",
    "qa('설문조사 결과:'+''.join(yes_data)+'이 사람은 암에 저항할 의지가 있는거야?')\n"
   ]
  },
  {
   "cell_type": "code",
   "execution_count": null,
   "metadata": {},
   "outputs": [],
   "source": []
  }
 ],
 "metadata": {
  "kernelspec": {
   "display_name": "whisper",
   "language": "python",
   "name": "python3"
  },
  "language_info": {
   "codemirror_mode": {
    "name": "ipython",
    "version": 3
   },
   "file_extension": ".py",
   "mimetype": "text/x-python",
   "name": "python",
   "nbconvert_exporter": "python",
   "pygments_lexer": "ipython3",
   "version": "3.12.3"
  }
 },
 "nbformat": 4,
 "nbformat_minor": 2
}
